{
 "cells": [
  {
   "cell_type": "code",
   "execution_count": 1,
   "id": "c4de02a4",
   "metadata": {},
   "outputs": [],
   "source": [
    "import numpy as np\n",
    "import pandas as pd\n",
    "import matplotlib.pyplot as plt"
   ]
  },
  {
   "cell_type": "code",
   "execution_count": 2,
   "id": "97adcd4e",
   "metadata": {},
   "outputs": [],
   "source": [
    "# Load the Iris dataset\n",
    "iris_data = pd.read_csv('Iris.csv')"
   ]
  },
  {
   "cell_type": "code",
   "execution_count": 3,
   "id": "5743af82",
   "metadata": {},
   "outputs": [],
   "source": [
    "# Preprocess the data\n",
    "iris_data.dropna(inplace=True)\n",
    "X = iris_data[['SepalLengthCm', 'SepalWidthCm']].values\n"
   ]
  },
  {
   "cell_type": "code",
   "execution_count": 4,
   "id": "07cfac5c",
   "metadata": {},
   "outputs": [],
   "source": [
    "# Normalize the features\n",
    "X_normalized = (X - np.mean(X, axis=0)) / np.std(X, axis=0)"
   ]
  },
  {
   "cell_type": "code",
   "execution_count": 5,
   "id": "1f9c96c9",
   "metadata": {},
   "outputs": [],
   "source": [
    "# Define the K-Means clustering function\n",
    "def k_means(X, K, max_iterations=100):\n",
    "    # Randomly initialize centroids\n",
    "    random_indices = np.random.choice(X.shape[0], K, replace=False)\n",
    "    centroids = X[random_indices]\n",
    "    \n",
    "    for _ in range(max_iterations):\n",
    "        # Assign data points to the closest centroid\n",
    "        distances = np.linalg.norm(X[:, np.newaxis] - centroids, axis=2)\n",
    "        cluster_labels = np.argmin(distances, axis=1)\n",
    "        \n",
    "        # Update centroids\n",
    "        for i in range(K):\n",
    "            centroids[i] = np.mean(X[cluster_labels == i], axis=0)\n",
    "    \n",
    "    return cluster_labels, centroids"
   ]
  },
  {
   "cell_type": "code",
   "execution_count": 6,
   "id": "a161acb9",
   "metadata": {},
   "outputs": [],
   "source": [
    "# Perform K-Means clustering\n",
    "K = 3  # Number of clusters\n",
    "cluster_labels, centroids = k_means(X_normalized, K)"
   ]
  },
  {
   "cell_type": "code",
   "execution_count": 7,
   "id": "d358a37f",
   "metadata": {},
   "outputs": [
    {
     "data": {
      "image/png": "[encoded data removed]",
      "text/plain": [
       "<Figure size 432x288 with 1 Axes>"
      ]
     },
     "metadata": {
      "needs_background": "light"
     },
     "output_type": "display_data"
    }
   ],
   "source": [
    "# Visualize the results\n",
    "colors = ['r', 'g', 'b']\n",
    "labels = ['Cluster 1', 'Cluster 2', 'Cluster 3']\n",
    "\n",
    "for i in range(K):\n",
    "    indices = np.where(cluster_labels == i)\n",
    "    plt.scatter(X[indices, 0], X[indices, 1], c=colors[i], label=labels[i])\n",
    "\n",
    "plt.scatter(centroids[:, 0], centroids[:, 1], c='k', marker='x', label='Centroids')\n",
    "plt.xlabel('Sepal Length (cm)')\n",
    "plt.ylabel('Sepal Width (cm)')\n",
    "plt.title('K-Means Clustering on Iris Dataset')\n",
    "plt.legend()\n",
    "plt.show()"
   ]
  },
  {
   "cell_type": "code",
   "execution_count": null,
   "id": "30f58214",
   "metadata": {},
   "outputs": [],
   "source": []
  }
 ],
 "metadata": {
  "kernelspec": {
   "display_name": "Python 3 (ipykernel)",
   "language": "python",
   "name": "python3"
  },
  "language_info": {
   "codemirror_mode": {
    "name": "ipython",
    "version": 3
   },
   "file_extension": ".py",
   "mimetype": "text/x-python",
   "name": "python",
   "nbconvert_exporter": "python",
   "pygments_lexer": "ipython3",
   "version": "3.9.7"
  }
 },
 "nbformat": 4,
 "nbformat_minor": 5
}
